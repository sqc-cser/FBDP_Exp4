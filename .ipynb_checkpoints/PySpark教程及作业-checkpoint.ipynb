{
 "cells": [
  {
   "cell_type": "markdown",
   "id": "6d06174e",
   "metadata": {},
   "source": [
    "如果没有安装pyspark用 !pip3 install pyspark 安装\n",
    "\n",
    "参考文章 https://blog.csdn.net/weixin_43790705/category_10335158.html"
   ]
  },
  {
   "cell_type": "code",
   "execution_count": 1,
   "id": "bbcdd198",
   "metadata": {},
   "outputs": [],
   "source": [
    "import pyspark\n",
    "import pandas as pd \n",
    "df = pd.read_csv('train_data.csv')"
   ]
  },
  {
   "cell_type": "code",
   "execution_count": 2,
   "id": "caab4ea2",
   "metadata": {},
   "outputs": [
    {
     "name": "stderr",
     "output_type": "stream",
     "text": [
      "21/12/13 18:43:19 WARN Utils: Your hostname, chengqichendeMacBook-Pro.local resolves to a loopback address: 127.0.0.1; using 172.25.186.188 instead (on interface en0)\n",
      "21/12/13 18:43:19 WARN Utils: Set SPARK_LOCAL_IP if you need to bind to another address\n",
      "Using Spark's default log4j profile: org/apache/spark/log4j-defaults.properties\n",
      "Setting default log level to \"WARN\".\n",
      "To adjust logging level use sc.setLogLevel(newLevel). For SparkR, use setLogLevel(newLevel).\n",
      "21/12/13 18:43:19 WARN NativeCodeLoader: Unable to load native-hadoop library for your platform... using builtin-java classes where applicable\n"
     ]
    },
    {
     "data": {
      "text/html": [
       "\n",
       "            <div>\n",
       "                <p><b>SparkSession - in-memory</b></p>\n",
       "                \n",
       "        <div>\n",
       "            <p><b>SparkContext</b></p>\n",
       "\n",
       "            <p><a href=\"http://172.25.186.188:4040\">Spark UI</a></p>\n",
       "\n",
       "            <dl>\n",
       "              <dt>Version</dt>\n",
       "                <dd><code>v3.2.0</code></dd>\n",
       "              <dt>Master</dt>\n",
       "                <dd><code>local[*]</code></dd>\n",
       "              <dt>AppName</dt>\n",
       "                <dd><code>Practice</code></dd>\n",
       "            </dl>\n",
       "        </div>\n",
       "        \n",
       "            </div>\n",
       "        "
      ],
      "text/plain": [
       "<pyspark.sql.session.SparkSession at 0x1116d85e0>"
      ]
     },
     "execution_count": 2,
     "metadata": {},
     "output_type": "execute_result"
    }
   ],
   "source": [
    "from pyspark.sql import SparkSession\n",
    "spark = SparkSession.builder.appName('Practice').getOrCreate() # 首先创建session\n",
    "spark"
   ]
  },
  {
   "cell_type": "code",
   "execution_count": 3,
   "id": "4ce5b1fe",
   "metadata": {},
   "outputs": [],
   "source": [
    "from pyspark import SparkContext\n",
    "# 创建会话\n",
    "sc = SparkContext.getOrCreate()"
   ]
  },
  {
   "cell_type": "markdown",
   "id": "fe1fd72d",
   "metadata": {},
   "source": [
    "### 创建RDD 有两种方式\n",
    "#### 1. parallelize()创建。这种方式创建的是ParallelCollectionRDD.\n",
    "data = sc.parallelize([1,2,3,4])\n",
    "#### 2. textFile() 从文件中读取。这种方式创建的是MapPartitionsRDD\n",
    "data = sc.textFile('../workdata/data/AST-US-D.xlsx')"
   ]
  },
  {
   "cell_type": "code",
   "execution_count": 4,
   "id": "3928e3a3",
   "metadata": {},
   "outputs": [
    {
     "name": "stderr",
     "output_type": "stream",
     "text": [
      "                                                                                \r"
     ]
    }
   ],
   "source": [
    "# spark.read.option('header','true') 意为读取第一行认为是列名，inferSchema=True是将读取的转成能认识的类型\n",
    "df_spark = spark.read.option('header','true').csv('train_data.csv',inferSchema=True)"
   ]
  },
  {
   "cell_type": "code",
   "execution_count": 5,
   "id": "6bc2d29e",
   "metadata": {
    "scrolled": true
   },
   "outputs": [
    {
     "name": "stdout",
     "output_type": "stream",
     "text": [
      "root\n",
      " |-- loan_id: integer (nullable = true)\n",
      " |-- user_id: integer (nullable = true)\n",
      " |-- total_loan: double (nullable = true)\n",
      " |-- year_of_loan: integer (nullable = true)\n",
      " |-- interest: double (nullable = true)\n",
      " |-- monthly_payment: double (nullable = true)\n",
      " |-- class: string (nullable = true)\n",
      " |-- sub_class: string (nullable = true)\n",
      " |-- work_type: string (nullable = true)\n",
      " |-- employer_type: string (nullable = true)\n",
      " |-- industry: string (nullable = true)\n",
      " |-- work_year: string (nullable = true)\n",
      " |-- house_exist: integer (nullable = true)\n",
      " |-- house_loan_status: integer (nullable = true)\n",
      " |-- censor_status: integer (nullable = true)\n",
      " |-- marriage: integer (nullable = true)\n",
      " |-- offsprings: integer (nullable = true)\n",
      " |-- issue_date: string (nullable = true)\n",
      " |-- use: integer (nullable = true)\n",
      " |-- post_code: double (nullable = true)\n",
      " |-- region: integer (nullable = true)\n",
      " |-- debt_loan_ratio: double (nullable = true)\n",
      " |-- del_in_18month: double (nullable = true)\n",
      " |-- scoring_low: double (nullable = true)\n",
      " |-- scoring_high: double (nullable = true)\n",
      " |-- pub_dero_bankrup: double (nullable = true)\n",
      " |-- early_return: integer (nullable = true)\n",
      " |-- early_return_amount: integer (nullable = true)\n",
      " |-- early_return_amount_3mon: double (nullable = true)\n",
      " |-- recircle_b: double (nullable = true)\n",
      " |-- recircle_u: double (nullable = true)\n",
      " |-- initial_list_status: integer (nullable = true)\n",
      " |-- earlies_credit_mon: string (nullable = true)\n",
      " |-- title: double (nullable = true)\n",
      " |-- policy_code: double (nullable = true)\n",
      " |-- f0: double (nullable = true)\n",
      " |-- f1: double (nullable = true)\n",
      " |-- f2: double (nullable = true)\n",
      " |-- f3: double (nullable = true)\n",
      " |-- f4: double (nullable = true)\n",
      " |-- f5: double (nullable = true)\n",
      " |-- is_default: integer (nullable = true)\n",
      "\n"
     ]
    }
   ],
   "source": [
    "df_spark.printSchema()"
   ]
  },
  {
   "cell_type": "code",
   "execution_count": 8,
   "id": "1a14e059",
   "metadata": {},
   "outputs": [
    {
     "data": {
      "text/plain": [
       "4043"
      ]
     },
     "execution_count": 8,
     "metadata": {},
     "output_type": "execute_result"
    }
   ],
   "source": [
    "### - 选取列方法\n",
    "# df_spark.select('house_exist')\n",
    "\n",
    "# df_spark.select(['house_exist','monthly_payment']).show()\n",
    "### - filter 过滤\n",
    "df_loan = df_spark.select('total_loan')\n",
    "\n",
    "df_loan.filter((df_loan['total_loan']<2000)\n",
    "              & (df_loan['total_loan']>=1000)).count()"
   ]
  },
  {
   "cell_type": "code",
   "execution_count": 9,
   "id": "172585f2",
   "metadata": {},
   "outputs": [
    {
     "name": "stdout",
     "output_type": "stream",
     "text": [
      "+-------+-----------------+\n",
      "|summary|       total_loan|\n",
      "+-------+-----------------+\n",
      "|  count|           300000|\n",
      "|   mean|      14399.20875|\n",
      "| stddev|8709.179953286352|\n",
      "|    min|            500.0|\n",
      "|    max|          40000.0|\n",
      "+-------+-----------------+\n",
      "\n"
     ]
    }
   ],
   "source": [
    "df_loan.describe().show()"
   ]
  },
  {
   "cell_type": "code",
   "execution_count": 26,
   "id": "8a527f8f",
   "metadata": {},
   "outputs": [
    {
     "data": {
      "text/plain": [
       "[<matplotlib.lines.Line2D at 0x1297b95e0>]"
      ]
     },
     "execution_count": 26,
     "metadata": {},
     "output_type": "execute_result"
    },
    {
     "data": {
      "image/png": "[encoded data removed]",
      "text/plain": [
       "<Figure size 432x288 with 1 Axes>"
      ]
     },
     "metadata": {
      "needs_background": "light"
     },
     "output_type": "display_data"
    }
   ],
   "source": [
    "import matplotlib.pyplot as plt\n",
    "pandas_loan = df_loan.toPandas()\n",
    "rdd =sc.parallelize(pandas_loan['total_loan'].tolist()).histogram(list(range(0,(int(pandas_loan.max()/1000)+1)*1000,1000)))\n",
    "# 利用matplotlib 生成图表\n",
    "data = {\n",
    "    'bins': rdd[0][:-1],\n",
    "    'freq': rdd[1]\n",
    "}\n",
    "\n",
    "plt.plot(data['bins'], data['freq'])"
   ]
  },
  {
   "cell_type": "code",
   "execution_count": 33,
   "id": "3de505ac",
   "metadata": {},
   "outputs": [
    {
     "name": "stdout",
     "output_type": "stream",
     "text": [
      "0 to 1000, 2\n",
      "1000 to 2000, 4043\n",
      "2000 to 3000, 6341\n",
      "3000 to 4000, 9317\n",
      "4000 to 5000, 10071\n",
      "5000 to 6000, 16514\n",
      "6000 to 7000, 15961\n",
      "7000 to 8000, 12789\n",
      "8000 to 9000, 16384\n",
      "9000 to 10000, 10458\n",
      "10000 to 11000, 27170\n",
      "11000 to 12000, 7472\n",
      "12000 to 13000, 20513\n",
      "13000 to 14000, 5928\n",
      "14000 to 15000, 8888\n",
      "15000 to 16000, 18612\n",
      "16000 to 17000, 11277\n",
      "17000 to 18000, 4388\n",
      "18000 to 19000, 9342\n",
      "19000 to 20000, 4077\n",
      "20000 to 21000, 17612\n",
      "21000 to 22000, 5507\n",
      "22000 to 23000, 3544\n",
      "23000 to 24000, 2308\n",
      "24000 to 25000, 8660\n",
      "25000 to 26000, 8813\n",
      "26000 to 27000, 1604\n",
      "27000 to 28000, 1645\n",
      "28000 to 29000, 5203\n",
      "29000 to 30000, 1144\n",
      "30000 to 31000, 6864\n",
      "31000 to 32000, 752\n",
      "32000 to 33000, 1887\n",
      "33000 to 34000, 865\n",
      "34000 to 35000, 587\n",
      "35000 to 36000, 11427\n",
      "36000 to 37000, 364\n",
      "37000 to 38000, 59\n",
      "38000 to 39000, 85\n",
      "39000 to 40000, 1523\n"
     ]
    }
   ],
   "source": [
    "for key in range(len(rdd[0])-1):\n",
    "    print(f'{rdd[0][key]} to {rdd[0][key+1]}, {rdd[1][key]}')  \n",
    "#     np.savetxt(\"output_191220093.txt\" ,apd, fmt=\"%d\",delimiter=\"\\n\")np.savetxt"
   ]
  }
 ],
 "metadata": {
  "kernelspec": {
   "display_name": "Python 3 (ipykernel)",
   "language": "python",
   "name": "python3"
  },
  "language_info": {
   "codemirror_mode": {
    "name": "ipython",
    "version": 3
   },
   "file_extension": ".py",
   "mimetype": "text/x-python",
   "name": "python",
   "nbconvert_exporter": "python",
   "pygments_lexer": "ipython3",
   "version": "3.8.10"
  }
 },
 "nbformat": 4,
 "nbformat_minor": 5
}
